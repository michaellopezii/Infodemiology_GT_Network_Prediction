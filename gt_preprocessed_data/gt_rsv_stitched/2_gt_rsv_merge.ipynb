{
 "cells": [
  {
   "cell_type": "code",
   "execution_count": 17,
   "metadata": {},
   "outputs": [],
   "source": [
    "import pandas as pd\n",
    "import glob"
   ]
  },
  {
   "cell_type": "code",
   "execution_count": 18,
   "metadata": {},
   "outputs": [],
   "source": [
    "# Call all tags for the name of each keyword\n",
    "tags = [\n",
    "    \"flu\",\n",
    "    \"cough\",\n",
    "    \"fever\",\n",
    "    \"headache\",\n",
    "    \"lagnat\",\n",
    "    \"rashes\",\n",
    "    \"sipon\",\n",
    "    \"ubo\",\n",
    "    \"ecq\",\n",
    "    \"face-shield\",\n",
    "    \"Frontliners\",\n",
    "    \"masks\",\n",
    "    \"Quarantine\",\n",
    "    \"social-distancing\",\n",
    "    \"work-from-home\",\n",
    "]"
   ]
  },
  {
   "cell_type": "code",
   "execution_count": 19,
   "metadata": {},
   "outputs": [],
   "source": [
    "# Initialize empty DataFrames with date as index\n",
    "merged_rescaled = pd.DataFrame()\n",
    "merged_normalized = pd.DataFrame()"
   ]
  },
  {
   "cell_type": "code",
   "execution_count": 20,
   "metadata": {},
   "outputs": [
    {
     "name": "stdout",
     "output_type": "stream",
     "text": [
      "\n",
      "gt_rescaled_rsv_values.csv:\n",
      "Number of rows: 366\n",
      "Columns: ['date', 'flu', 'cough', 'fever', 'headache', 'lagnat', 'rashes', 'sipon', 'ubo', 'ecq', 'face shield', 'Frontliners', 'masks', 'Quarantine', 'social distancing', 'work from home']\n",
      "Date range: 2020-03-16 00:00:00 to 2021-03-16 00:00:00\n",
      "\n",
      "gt_normal_rescaled_rsv.csv:\n",
      "Number of rows: 366\n",
      "Columns: ['date', 'flu', 'cough', 'fever', 'headache', 'lagnat', 'rashes', 'sipon', 'ubo', 'ecq', 'face shield', 'Frontliners', 'masks', 'Quarantine', 'social distancing', 'work from home']\n",
      "Date range: 2020-03-16 00:00:00 to 2021-03-16 00:00:00\n"
     ]
    }
   ],
   "source": [
    "for tag in tags:\n",
    "    # Read the stitched RSV file\n",
    "    df = pd.read_csv(f\"./{tag}_rsv_stitched.csv\")\n",
    "    df['date'] = pd.to_datetime(df['date'])\n",
    "    \n",
    "    # Format tag name (replace dashes with spaces)\n",
    "    tag_name = tag.replace('-', ' ')\n",
    "    \n",
    "    # Add columns to respective DataFrames\n",
    "    if merged_rescaled.empty:\n",
    "        merged_rescaled['date'] = df['date']\n",
    "        merged_normalized['date'] = df['date']\n",
    "    \n",
    "    # Add the rescaled and normalized columns with proper names\n",
    "    merged_rescaled[f'{tag_name}'] = df['rescaled_rsv']\n",
    "    merged_normalized[f'{tag_name}'] = df['normalized_rescaled_rsv']\n",
    "\n",
    "# Save the merged files\n",
    "merged_rescaled.to_csv('3_gt_rescaled_rsv.csv', index=False)\n",
    "merged_normalized.to_csv('4_gt_normal_rescaled_rsv.csv', index=False)\n",
    "\n",
    "# Print information about the merged files\n",
    "print(\"\\ngt_rescaled_rsv_values.csv:\")\n",
    "print(f\"Number of rows: {len(merged_rescaled)}\")\n",
    "print(f\"Columns: {merged_rescaled.columns.tolist()}\")\n",
    "print(f\"Date range: {merged_rescaled['date'].min()} to {merged_rescaled['date'].max()}\")\n",
    "\n",
    "print(\"\\ngt_normal_rescaled_rsv.csv:\")\n",
    "print(f\"Number of rows: {len(merged_normalized)}\")\n",
    "print(f\"Columns: {merged_normalized.columns.tolist()}\")\n",
    "print(f\"Date range: {merged_normalized['date'].min()} to {merged_normalized['date'].max()}\")"
   ]
  },
  {
   "cell_type": "code",
   "execution_count": null,
   "metadata": {},
   "outputs": [],
   "source": []
  }
 ],
 "metadata": {
  "kernelspec": {
   "display_name": "Python 3",
   "language": "python",
   "name": "python3"
  },
  "language_info": {
   "codemirror_mode": {
    "name": "ipython",
    "version": 3
   },
   "file_extension": ".py",
   "mimetype": "text/x-python",
   "name": "python",
   "nbconvert_exporter": "python",
   "pygments_lexer": "ipython3",
   "version": "3.12.2"
  }
 },
 "nbformat": 4,
 "nbformat_minor": 2
}
