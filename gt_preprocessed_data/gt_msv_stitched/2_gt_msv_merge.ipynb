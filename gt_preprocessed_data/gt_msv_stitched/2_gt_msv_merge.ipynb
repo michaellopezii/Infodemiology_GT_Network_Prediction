{
 "cells": [
  {
   "cell_type": "code",
   "execution_count": 18,
   "metadata": {},
   "outputs": [],
   "source": [
    "import pandas as pd\n",
    "import os"
   ]
  },
  {
   "cell_type": "code",
   "execution_count": 19,
   "metadata": {},
   "outputs": [],
   "source": [
    "# Process all tags\n",
    "tags = [\n",
    "    \"flu\", \"cough\", \"fever\", \"headache\", \"lagnat\", \"rashes\",\n",
    "    \"sipon\", \"ubo\", \"ecq\", \"face-shield\", \"Frontliners\",\n",
    "    \"masks\", \"Quarantine\", \"social-distancing\", \"work-from-home\"\n",
    "]"
   ]
  },
  {
   "cell_type": "code",
   "execution_count": 20,
   "metadata": {},
   "outputs": [],
   "source": [
    "def load_and_prepare_tag_data(tag):\n",
    "    \"\"\"Load a tag's CSV file and prepare it for merging.\"\"\"\n",
    "    filename = f\"{tag}_msv_stitched_30day.csv\"\n",
    "    if not os.path.exists(filename):\n",
    "        print(f\"Warning: Could not find {filename}\")\n",
    "        return None\n",
    "    \n",
    "    try:\n",
    "        # Read the CSV\n",
    "        df = pd.read_csv(filename)\n",
    "        \n",
    "        # Ensure date column is properly formatted\n",
    "        df['date'] = pd.to_datetime(df['date']).dt.strftime('%Y-%m-%d')\n",
    "        \n",
    "        # Rename the value column to the tag name (with spaces instead of dashes)\n",
    "        tag_column = tag.replace('-', ' ')\n",
    "        df = df.rename(columns={tag_column: tag_column})\n",
    "        \n",
    "        # Keep only date and value columns\n",
    "        return df\n",
    "    except Exception as e:\n",
    "        print(f\"Error processing {filename}: {str(e)}\")\n",
    "        return None"
   ]
  },
  {
   "cell_type": "code",
   "execution_count": 21,
   "metadata": {},
   "outputs": [],
   "source": [
    "# Start with the first tag\n",
    "first_tag = tags[0]\n",
    "merged_df = load_and_prepare_tag_data(first_tag)"
   ]
  },
  {
   "cell_type": "code",
   "execution_count": 22,
   "metadata": {},
   "outputs": [
    {
     "name": "stdout",
     "output_type": "stream",
     "text": [
      "\n",
      "Successfully created 3_gt_msv_stitched_compute.csv\n",
      "Final shape: (364, 16)\n",
      "\n",
      "First few rows of the merged file:\n",
      "         date    flu  cough  fever  headache  lagnat  rashes  sipon   ubo  \\\n",
      "0  2020-03-16  100.0   96.0   97.0      79.0    50.0    66.0  100.0  91.0   \n",
      "1  2020-03-17   50.0   82.0   94.0      85.0    71.0    86.0   96.0  76.0   \n",
      "2  2020-03-18   38.0   87.0   94.0      70.0    79.0    37.0   63.0  72.0   \n",
      "3  2020-03-19   38.0   75.0   90.0      58.0    50.0    58.0   64.0  76.0   \n",
      "4  2020-03-20   35.0   71.0   95.0      55.0    51.0    64.0   66.0  92.0   \n",
      "\n",
      "   ecq  face shield  Frontliners  masks  Quarantine  social distancing  \\\n",
      "0  0.0          0.0         14.0   53.0       100.0              100.0   \n",
      "1  0.0          0.0         24.0   46.0        46.0               64.0   \n",
      "2  5.0         57.0         33.0   46.0        38.0               59.0   \n",
      "3  0.0         53.0         19.0   69.0        36.0               50.0   \n",
      "4  5.0         42.0         26.0   38.0        39.0               52.0   \n",
      "\n",
      "   work from home  \n",
      "0           100.0  \n",
      "1            97.0  \n",
      "2            79.0  \n",
      "3            64.0  \n",
      "4            67.0  \n"
     ]
    }
   ],
   "source": [
    "if merged_df is not None:\n",
    "    # Merge each remaining tag\n",
    "    for tag in tags[1:]:\n",
    "        tag_df = load_and_prepare_tag_data(tag)\n",
    "        if tag_df is not None:\n",
    "            # Merge on date\n",
    "            merged_df = pd.merge(merged_df, tag_df, on='date', how='outer')\n",
    "    \n",
    "    # Sort by date\n",
    "    merged_df = merged_df.sort_values('date')\n",
    "    \n",
    "    # Save the merged file\n",
    "    output_filename = \"3_gt_msv_stitched_compute.csv\"\n",
    "    merged_df.to_csv(output_filename, index=False)\n",
    "    print(f\"\\nSuccessfully created {output_filename}\")\n",
    "    print(f\"Final shape: {merged_df.shape}\")\n",
    "    \n",
    "    # Display first few rows to verify\n",
    "    print(\"\\nFirst few rows of the merged file:\")\n",
    "    print(merged_df.head())\n",
    "else:\n",
    "    print(\"Error: Could not process first tag file\")"
   ]
  }
 ],
 "metadata": {
  "kernelspec": {
   "display_name": "Python 3",
   "language": "python",
   "name": "python3"
  },
  "language_info": {
   "codemirror_mode": {
    "name": "ipython",
    "version": 3
   },
   "file_extension": ".py",
   "mimetype": "text/x-python",
   "name": "python",
   "nbconvert_exporter": "python",
   "pygments_lexer": "ipython3",
   "version": "3.12.2"
  }
 },
 "nbformat": 4,
 "nbformat_minor": 2
}
