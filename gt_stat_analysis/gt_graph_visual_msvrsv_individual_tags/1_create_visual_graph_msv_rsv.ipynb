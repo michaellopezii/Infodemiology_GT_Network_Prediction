{
 "cells": [
  {
   "cell_type": "code",
   "execution_count": 12,
   "metadata": {},
   "outputs": [],
   "source": [
    "import pandas as pd\n",
    "import matplotlib.pyplot as plt\n",
    "import matplotlib.dates as mdates\n",
    "from datetime import datetime\n",
    "import numpy as np\n",
    "from cycler import cycler"
   ]
  },
  {
   "cell_type": "code",
   "execution_count": 13,
   "metadata": {},
   "outputs": [],
   "source": [
    "# Read the data\n",
    "msv_data = pd.read_csv(\"../../gt_preprocessed_data/gt_msv_stitched/3_gt_msv_stitched_compute.csv\")\n",
    "rsv_data = pd.read_csv(\"../../gt_preprocessed_data/gt_rsv_stitched/3_gt_rescaled_rsv.csv\")"
   ]
  },
  {
   "cell_type": "code",
   "execution_count": 14,
   "metadata": {},
   "outputs": [],
   "source": [
    "# Convert date column to datetime\n",
    "msv_data['date'] = pd.to_datetime(msv_data['date'])\n",
    "rsv_data['date'] = pd.to_datetime(rsv_data['date'])"
   ]
  },
  {
   "cell_type": "code",
   "execution_count": 16,
   "metadata": {},
   "outputs": [],
   "source": [
    "# Define events with their dates, colors, and vertical text positions\n",
    "events = {\n",
    "    \"2020-03-17\": (\"First ECQ ongoing; PH under 'state of calamity'\", \"#FF1493\", 1.0),\n",
    "    \"2020-03-25\": (\"Bayanihan Act signed\", \"#FF0505\", 1.1),\n",
    "    \"2020-04-07\": (\"ECQ in MM extended to Apr 30\", \"#FF1493\", 1.0),\n",
    "    \"2020-04-24\": (\"ECQ in MM extended to May 15\", \"#FF1493\", 1.1),\n",
    "    \"2020-05-12\": (\"IATF puts MECQ in MM\", \"#FF1493\", 1.0),\n",
    "    \"2020-05-26\": (\"MM mayors agreed GCQ\", \"#FF1493\", 1.1),\n",
    "    \"2020-06-01\": (\"GCQ starts in MM\", \"#FF1493\", 1.0),\n",
    "    \"2020-08-02\": (\"100k cases surpassed in PH\", \"#000000\", 1.0),\n",
    "    \"2020-08-04\": (\"MECQ imposed again in MM\", \"#FF1493\", 1.0),\n",
    "    \"2020-08-19\": (\"PhilHealth scandal\", \"#FF0505\", 1.1),\n",
    "    \"2020-09-18\": (\"Bayanihan 2 Act signed\", \"#FF0505\", 1.0),\n",
    "    \"2020-09-28\": (\"All PH provinces infected\", \"#000000\", 1.1),\n",
    "    \"2020-12-19\": (\"Alpha in UK\", \"#000000\", 1.0),\n",
    "    \"2021-01-09\": (\"DOH monitors Beta/Delta overseas\", \"#000000\", 1.0),\n",
    "    \"2021-01-13\": (\"Alpha in PH\", \"#000000\", 2.0),\n",
    "    \"2021-01-14\": (\"Pfizer approved\", \"#FFD700\", 3.0),\n",
    "    \"2021-01-28\": (\"AstraZeneca approved\", \"#FFD700\", 1.0),\n",
    "    \"2021-03-02\": (\"Beta in Pasay\", \"#000000\", 1.1),\n",
    "    \"2021-03-12\": (\"Gamma in PH\", \"#000000\", 1.0)\n",
    "}"
   ]
  },
  {
   "cell_type": "code",
   "execution_count": 17,
   "metadata": {},
   "outputs": [],
   "source": [
    "def add_event_lines(ax, ylim):\n",
    "    \"\"\"Add vertical lines for events with annotations\"\"\"\n",
    "    # Store existing lines to adjust zorder later\n",
    "    existing_lines = ax.get_lines()\n",
    "    \n",
    "    # Set all data lines to lower z-order\n",
    "    for line in existing_lines:\n",
    "        line.set_zorder(1)\n",
    "        \n",
    "    # Draw event lines with increased width and higher z-order\n",
    "    for date, (label, color, pos) in events.items():\n",
    "        event_date = pd.to_datetime(date)\n",
    "        ax.axvline(x=event_date, \n",
    "                  color=color, \n",
    "                  linestyle='--', \n",
    "                  alpha=0.8,\n",
    "                  linewidth=2.5,\n",
    "                  zorder=5)\n",
    "        \n",
    "        # Special handling for overlapping text\n",
    "        if label == \"Pfizer approved\":\n",
    "            x_offset = 14 \n",
    "        elif label == \"MECQ imposed again in MM\":\n",
    "            x_offset = 14\n",
    "        else:\n",
    "            x_offset = 5  # Default x-offset for other labels\n",
    "            \n",
    "        # Add text with rotation and offset\n",
    "        ax.annotate(label, \n",
    "                   xy=(event_date, ylim[1]),\n",
    "                   xytext=(x_offset, 10),  # Using the dynamic x_offset\n",
    "                   textcoords='offset points',\n",
    "                   rotation=45,\n",
    "                   ha='left',\n",
    "                   va='bottom',\n",
    "                   fontsize=8,\n",
    "                   zorder=6)"
   ]
  },
  {
   "cell_type": "code",
   "execution_count": 18,
   "metadata": {},
   "outputs": [],
   "source": [
    "def create_individual_graphs(data, data_type):\n",
    "    \"\"\"Create individual graphs for each tag\"\"\"\n",
    "    tags = [col for col in data.columns if col != 'date']\n",
    "    \n",
    "    for tag in tags:\n",
    "        plt.figure(figsize=(15, 8))\n",
    "        plt.plot(data['date'], data[tag], label=tag, linewidth=2)\n",
    "        \n",
    "        # Add event lines\n",
    "        ylim = plt.ylim()\n",
    "        add_event_lines(plt.gca(), ylim)\n",
    "        \n",
    "        plt.xlabel('Date')\n",
    "        plt.ylabel('Value')\n",
    "        \n",
    "        # Move title to bottom\n",
    "        plt.figtext(0.5, 0.02, f'{data_type} Data Processing - {tag} Google Trends Values',\n",
    "                   ha='center', va='center', fontsize=12)\n",
    "        \n",
    "        plt.tight_layout()\n",
    "        plt.subplots_adjust(bottom=0.1)  # Make room for bottom title\n",
    "        plt.savefig(f'{data_type}_{tag}_timeseries.png')\n",
    "        plt.close()"
   ]
  },
  {
   "cell_type": "code",
   "execution_count": 21,
   "metadata": {},
   "outputs": [],
   "source": [
    "# Define groups\n",
    "MSV_GROUPS = {\n",
    "    \"MSVSymptoms-0.6\": [\"cough\", \"fever\", \"sipon\"],\n",
    "    \"MSVCOVIDProtocols1-0.6\": [\"ecq\", \"Quarantine\"],\n",
    "    \"MSVSymptoms&HealthProtocols-0.6\": [\"flu\", \"headache\", \"lagnat\", \"rashes\", \"ubo\", \n",
    "                                        \"face shield\", \"Frontliners\", \"masks\", \"social distancing\"],\n",
    "    \"MSVSymptoms-0.5\": [\"flu\", \"cough\", \"fever\", \"sipon\", \"ubo\"],\n",
    "    \"MSVCOVIDProtocols1-0.5\": [\"Quarantine\", \"Frontliners\", \"ecq\"],\n",
    "    \"MSVFaceWearing&Others-0.5\": [\"masks\", \"face shield\", \"headache\", \"lagnat\", \"rashes\", \"social distancing\"]\n",
    "}\n",
    "\n",
    "RSV_GROUPS = {\n",
    "    \"RSVSymptoms&HealthProtocols1-0.6\": [\"flu\", \"cough\", \"fever\", \"Quarantine\", \"work from home\"],\n",
    "    \"RSVSymptoms&HealthProtocols2-0.6\": [\"face shield\", \"headache\", \"lagnat\", \"rashes\", \"sipon\", \n",
    "                                        \"ubo\", \"Frontliners\", \"masks\", \"social distancing\"],\n",
    "    \"RSVSymptoms&COVIDProtocols-0.5\": [\"social distancing\", \"work from home\", \"Quarantine\", \n",
    "                                     \"headache\", \"fever\", \"cough\", \"flu\"],\n",
    "    \"RSVFaceWearing&Others-0.5\": [\"face shield\", \"masks\", \"Frontliners\", \"ubo\", \"sipon\", \"rashes\", \"lagnat\"]\n",
    "}"
   ]
  },
  {
   "cell_type": "code",
   "execution_count": 22,
   "metadata": {},
   "outputs": [],
   "source": [
    "# Generate all visualizations\n",
    "create_individual_graphs(msv_data, 'MSV')\n",
    "create_individual_graphs(rsv_data, 'RSV')"
   ]
  }
 ],
 "metadata": {
  "kernelspec": {
   "display_name": "Python 3",
   "language": "python",
   "name": "python3"
  },
  "language_info": {
   "codemirror_mode": {
    "name": "ipython",
    "version": 3
   },
   "file_extension": ".py",
   "mimetype": "text/x-python",
   "name": "python",
   "nbconvert_exporter": "python",
   "pygments_lexer": "ipython3",
   "version": "3.12.2"
  }
 },
 "nbformat": 4,
 "nbformat_minor": 2
}
