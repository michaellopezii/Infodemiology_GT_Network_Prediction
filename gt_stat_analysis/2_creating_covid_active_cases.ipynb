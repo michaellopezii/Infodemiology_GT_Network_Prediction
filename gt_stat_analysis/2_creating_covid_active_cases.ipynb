{
 "cells": [
  {
   "cell_type": "code",
   "execution_count": 1,
   "metadata": {},
   "outputs": [],
   "source": [
    "import pandas as pd\n",
    "from datetime import datetime"
   ]
  },
  {
   "cell_type": "code",
   "execution_count": 2,
   "metadata": {},
   "outputs": [],
   "source": [
    "def process_disease_data(input_csv):\n",
    "    # Read the CSV file\n",
    "    df = pd.read_csv(input_csv)\n",
    "    \n",
    "    # Filter for NCR cases only\n",
    "    ncr_cases = df[(df['RegionRes'] == 'NCR') & (df['ProvRes'] == 'NCR')].copy()\n",
    "    \n",
    "    # Convert dates to datetime\n",
    "    ncr_cases['DateRepConf'] = pd.to_datetime(ncr_cases['DateRepConf'])\n",
    "    ncr_cases['DateRepRem'] = pd.to_datetime(ncr_cases['DateRepRem'])\n",
    "    \n",
    "    # Create date range from earliest conf to latest rem date\n",
    "    date_range = pd.date_range(\n",
    "        start=ncr_cases['DateRepConf'].min(),\n",
    "        end=max(ncr_cases['DateRepRem'].max(), ncr_cases['DateRepConf'].max()),\n",
    "        freq='D'\n",
    "    )\n",
    "    \n",
    "    # Calculate daily confirmed and removed cases\n",
    "    daily_data = []\n",
    "    running_active_cases = 0\n",
    "    \n",
    "    for date in date_range:\n",
    "        # Count new confirmed cases for this date\n",
    "        new_cases = len(ncr_cases[ncr_cases['DateRepConf'].dt.date == date.date()])\n",
    "        \n",
    "        # Count removed cases for this date\n",
    "        removed_cases = len(ncr_cases[ncr_cases['DateRepRem'].dt.date == date.date()])\n",
    "        \n",
    "        # Update running total\n",
    "        running_active_cases = running_active_cases + new_cases - removed_cases\n",
    "        \n",
    "        daily_data.append({\n",
    "            'date': date.strftime('%Y-%m-%d'),\n",
    "            'new_confirmed_cases': new_cases,\n",
    "            'removed_cases': removed_cases,\n",
    "            'active_cases': running_active_cases\n",
    "        })\n",
    "    \n",
    "    # Convert to DataFrame\n",
    "    daily_df = pd.DataFrame(daily_data)\n",
    "    \n",
    "    # Save both daily confirmed cases and active cases\n",
    "    daily_df.to_csv('disease_daily_cases.csv', index=False)\n",
    "    \n",
    "    # Also save a simplified version with just date and active cases\n",
    "    active_cases_df = daily_df[['date', 'active_cases']]\n",
    "    active_cases_df.to_csv('disease_active_cases.csv', index=False)\n",
    "    \n",
    "    print(\"Successfully created disease_daily_cases.csv and disease_active_cases.csv\")\n",
    "    print(f\"\\nDate range: from {daily_df['date'].min()} to {daily_df['date'].max()}\")\n",
    "    print(f\"Maximum active cases: {daily_df['active_cases'].max()} on {daily_df.loc[daily_df['active_cases'].idxmax(), 'date']}\")\n",
    "    \n",
    "    # Print some validation statistics\n",
    "    total_confirmed = daily_df['new_confirmed_cases'].sum()\n",
    "    total_removed = daily_df['removed_cases'].sum()\n",
    "    final_active = daily_df['active_cases'].iloc[-1]\n",
    "    \n",
    "    print(\"\\nValidation Statistics:\")\n",
    "    print(f\"Total confirmed cases: {total_confirmed}\")\n",
    "    print(f\"Total removed cases: {total_removed}\")\n",
    "    print(f\"Final active cases: {final_active}\")\n",
    "    print(f\"Balance check (should be 0): {total_confirmed - total_removed - final_active}\")"
   ]
  },
  {
   "cell_type": "code",
   "execution_count": 3,
   "metadata": {},
   "outputs": [
    {
     "name": "stderr",
     "output_type": "stream",
     "text": [
      "/var/folders/fw/769hqybs6y9gq7twgv1s_52m0000gn/T/ipykernel_83197/2842596532.py:3: DtypeWarning: Columns (16,17) have mixed types. Specify dtype option on import or set low_memory=False.\n",
      "  df = pd.read_csv(input_csv)\n",
      "/var/folders/fw/769hqybs6y9gq7twgv1s_52m0000gn/T/ipykernel_83197/2842596532.py:9: UserWarning: Could not infer format, so each element will be parsed individually, falling back to `dateutil`. To ensure parsing is consistent and as-expected, please specify a format.\n",
      "  ncr_cases['DateRepConf'] = pd.to_datetime(ncr_cases['DateRepConf'])\n",
      "/var/folders/fw/769hqybs6y9gq7twgv1s_52m0000gn/T/ipykernel_83197/2842596532.py:10: UserWarning: Could not infer format, so each element will be parsed individually, falling back to `dateutil`. To ensure parsing is consistent and as-expected, please specify a format.\n",
      "  ncr_cases['DateRepRem'] = pd.to_datetime(ncr_cases['DateRepRem'])\n"
     ]
    },
    {
     "name": "stdout",
     "output_type": "stream",
     "text": [
      "Successfully created disease_daily_cases.csv and disease_active_cases.csv\n",
      "\n",
      "Date range: from 2020-03-08 to 2023-04-21\n",
      "Maximum active cases: 96379 on 2021-04-17\n",
      "\n",
      "Validation Statistics:\n",
      "Total confirmed cases: 447385\n",
      "Total removed cases: 447385\n",
      "Final active cases: 0\n",
      "Balance check (should be 0): 0\n"
     ]
    }
   ],
   "source": [
    "process_disease_data('DOH_COVID_Data_Drop_20240103_2020-2023_Merged.csv')"
   ]
  }
 ],
 "metadata": {
  "kernelspec": {
   "display_name": "Python 3",
   "language": "python",
   "name": "python3"
  },
  "language_info": {
   "codemirror_mode": {
    "name": "ipython",
    "version": 3
   },
   "file_extension": ".py",
   "mimetype": "text/x-python",
   "name": "python",
   "nbconvert_exporter": "python",
   "pygments_lexer": "ipython3",
   "version": "3.12.2"
  }
 },
 "nbformat": 4,
 "nbformat_minor": 2
}
