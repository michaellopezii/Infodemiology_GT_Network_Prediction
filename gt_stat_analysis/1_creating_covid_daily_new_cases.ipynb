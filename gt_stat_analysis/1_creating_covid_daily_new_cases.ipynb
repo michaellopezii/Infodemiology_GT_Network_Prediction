{
 "cells": [
  {
   "cell_type": "code",
   "execution_count": 1,
   "metadata": {},
   "outputs": [],
   "source": [
    "import pandas as pd\n",
    "from datetime import datetime"
   ]
  },
  {
   "cell_type": "code",
   "execution_count": 2,
   "metadata": {},
   "outputs": [],
   "source": [
    "def process_disease_data(input_csv):\n",
    "    # Read the CSV file\n",
    "    df = pd.read_csv(input_csv)\n",
    "    \n",
    "    # Filter for NCR cases only\n",
    "    ncr_cases = df[(df['RegionRes'] == 'NCR') & (df['ProvRes'] == 'NCR')]\n",
    "    \n",
    "    # Convert DateRepConf to datetime\n",
    "    ncr_cases['DateRepConf'] = pd.to_datetime(ncr_cases['DateRepConf'])\n",
    "    \n",
    "    # Format date to YYYY-MM-DD\n",
    "    ncr_cases['date'] = ncr_cases['DateRepConf'].dt.strftime('%Y-%m-%d')\n",
    "    \n",
    "    # Count cases per day\n",
    "    daily_cases = ncr_cases.groupby('date').size().reset_index()\n",
    "    daily_cases.columns = ['date', 'confirmed_cases']\n",
    "    \n",
    "    # Sort by date\n",
    "    daily_cases = daily_cases.sort_values('date')\n",
    "    \n",
    "    # Save to new CSV file\n",
    "    daily_cases.to_csv('disease_confirmed_daily_cases.csv', index=False)\n",
    "    \n",
    "    print(\"Successfully created disease_confirmed_daily_cases.csv\")\n",
    "    print(f\"Total number of days processed: {len(daily_cases)}\")\n",
    "    print(f\"Date range: from {daily_cases['date'].min()} to {daily_cases['date'].max()}\")\n",
    "    print(f\"Total confirmed cases: {daily_cases['confirmed_cases'].sum()}\")"
   ]
  },
  {
   "cell_type": "code",
   "execution_count": 3,
   "metadata": {},
   "outputs": [
    {
     "name": "stderr",
     "output_type": "stream",
     "text": [
      "/var/folders/fw/769hqybs6y9gq7twgv1s_52m0000gn/T/ipykernel_83057/1892158751.py:3: DtypeWarning: Columns (16,17) have mixed types. Specify dtype option on import or set low_memory=False.\n",
      "  df = pd.read_csv(input_csv)\n",
      "/var/folders/fw/769hqybs6y9gq7twgv1s_52m0000gn/T/ipykernel_83057/1892158751.py:9: UserWarning: Could not infer format, so each element will be parsed individually, falling back to `dateutil`. To ensure parsing is consistent and as-expected, please specify a format.\n",
      "  ncr_cases['DateRepConf'] = pd.to_datetime(ncr_cases['DateRepConf'])\n",
      "/var/folders/fw/769hqybs6y9gq7twgv1s_52m0000gn/T/ipykernel_83057/1892158751.py:9: SettingWithCopyWarning: \n",
      "A value is trying to be set on a copy of a slice from a DataFrame.\n",
      "Try using .loc[row_indexer,col_indexer] = value instead\n",
      "\n",
      "See the caveats in the documentation: https://pandas.pydata.org/pandas-docs/stable/user_guide/indexing.html#returning-a-view-versus-a-copy\n",
      "  ncr_cases['DateRepConf'] = pd.to_datetime(ncr_cases['DateRepConf'])\n",
      "/var/folders/fw/769hqybs6y9gq7twgv1s_52m0000gn/T/ipykernel_83057/1892158751.py:12: SettingWithCopyWarning: \n",
      "A value is trying to be set on a copy of a slice from a DataFrame.\n",
      "Try using .loc[row_indexer,col_indexer] = value instead\n",
      "\n",
      "See the caveats in the documentation: https://pandas.pydata.org/pandas-docs/stable/user_guide/indexing.html#returning-a-view-versus-a-copy\n",
      "  ncr_cases['date'] = ncr_cases['DateRepConf'].dt.strftime('%Y-%m-%d')\n"
     ]
    },
    {
     "name": "stdout",
     "output_type": "stream",
     "text": [
      "Successfully created disease_confirmed_daily_cases.csv\n",
      "Total number of days processed: 426\n",
      "Date range: from 2020-03-08 to 2021-05-07\n",
      "Total confirmed cases: 447385\n"
     ]
    }
   ],
   "source": [
    "process_disease_data('DOH_COVID_Data_Drop_20240103_2020-2023_Merged.csv')"
   ]
  }
 ],
 "metadata": {
  "kernelspec": {
   "display_name": "Python 3",
   "language": "python",
   "name": "python3"
  },
  "language_info": {
   "codemirror_mode": {
    "name": "ipython",
    "version": 3
   },
   "file_extension": ".py",
   "mimetype": "text/x-python",
   "name": "python",
   "nbconvert_exporter": "python",
   "pygments_lexer": "ipython3",
   "version": "3.12.2"
  }
 },
 "nbformat": 4,
 "nbformat_minor": 2
}
