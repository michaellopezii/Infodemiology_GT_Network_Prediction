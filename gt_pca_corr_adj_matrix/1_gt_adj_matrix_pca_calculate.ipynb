{
 "cells": [
  {
   "cell_type": "code",
   "execution_count": 49,
   "metadata": {},
   "outputs": [],
   "source": [
    "import pandas as pd\n",
    "import os\n",
    "from itertools import combinations\n",
    "from datetime import datetime"
   ]
  },
  {
   "cell_type": "code",
   "execution_count": 50,
   "metadata": {},
   "outputs": [],
   "source": [
    "def load_adj_matrix(filepath):\n",
    "    return pd.read_csv(filepath, index_col=0)"
   ]
  },
  {
   "cell_type": "code",
   "execution_count": 51,
   "metadata": {},
   "outputs": [],
   "source": [
    "def get_subgraph_indices(df, group_tags):\n",
    "    return [list(df.index).index(tag) for tag in group_tags]"
   ]
  },
  {
   "cell_type": "code",
   "execution_count": 52,
   "metadata": {},
   "outputs": [],
   "source": [
    "def calculate_network_density(adj_matrix, group_indices):\n",
    "    n = len(group_indices)\n",
    "    max_edges = (n * (n-1)) / 2\n",
    "    if max_edges == 0:\n",
    "        return 0\n",
    "    \n",
    "    actual_edges = 0\n",
    "    for i, j in combinations(group_indices, 2):\n",
    "        if adj_matrix.iloc[max(i,j), min(i,j)] == 1:\n",
    "            actual_edges += 1\n",
    "    \n",
    "    return actual_edges / max_edges"
   ]
  },
  {
   "cell_type": "code",
   "execution_count": 53,
   "metadata": {},
   "outputs": [],
   "source": [
    "def calculate_clustering_coefficient(adj_matrix, group_indices):\n",
    "    n = len(group_indices)\n",
    "    if n < 3:\n",
    "        return 0\n",
    "    \n",
    "    possible_triads = 0\n",
    "    closed_triads = 0\n",
    "    \n",
    "    for i, j, k in combinations(group_indices, 3):\n",
    "        # Get edges from lower triangle\n",
    "        edge1 = adj_matrix.iloc[max(i,j), min(i,j)]\n",
    "        edge2 = adj_matrix.iloc[max(j,k), min(j,k)]\n",
    "        edge3 = adj_matrix.iloc[max(i,k), min(i,k)]\n",
    "        \n",
    "        if edge1 == 1 and edge2 == 1 and edge3 == 1:\n",
    "            closed_triads += 1\n",
    "        possible_triads += 1\n",
    "    \n",
    "    return closed_triads / possible_triads if possible_triads > 0 else 0"
   ]
  },
  {
   "cell_type": "code",
   "execution_count": 54,
   "metadata": {},
   "outputs": [],
   "source": [
    "def extract_date_from_filename(filename):\n",
    "    parts = filename.split('_')\n",
    "    year = parts[2]\n",
    "    month = parts[3]\n",
    "    day = parts[4].split('.')[0]\n",
    "    return f\"{year}-{month}-{day}\""
   ]
  },
  {
   "cell_type": "code",
   "execution_count": 55,
   "metadata": {},
   "outputs": [],
   "source": [
    "def process_matrices(base_dir, threshold, groups, window_size):\n",
    "    threshold_dir = f\"{threshold}_threshold\"\n",
    "    full_path = os.path.join(base_dir, threshold_dir)\n",
    "    \n",
    "    results = {group: {'density': {}, 'clustering': {}} for group in groups}\n",
    "    \n",
    "    for filename in os.listdir(full_path):\n",
    "        if filename.endswith('.csv'):\n",
    "            date = extract_date_from_filename(filename)\n",
    "            filepath = os.path.join(full_path, filename)\n",
    "            adj_matrix = load_adj_matrix(filepath)\n",
    "            \n",
    "            for group_name, tags in groups.items():\n",
    "                indices = get_subgraph_indices(adj_matrix, tags)\n",
    "                density = calculate_network_density(adj_matrix, indices)\n",
    "                clustering = calculate_clustering_coefficient(adj_matrix, indices)\n",
    "                \n",
    "                results[group_name]['density'][date] = density\n",
    "                results[group_name]['clustering'][date] = clustering\n",
    "                \n",
    "    # Create output files\n",
    "    for group_name in groups:\n",
    "        # Network Density file\n",
    "        density_df = pd.DataFrame({\n",
    "            'network_density': results[group_name]['density']\n",
    "        })\n",
    "        density_df.index.name = 'date'\n",
    "        # Sort index by date\n",
    "        density_df.index = pd.to_datetime(density_df.index)\n",
    "        density_df = density_df.sort_index()\n",
    "        density_filename = f\"netdense_{group_name}_{threshold}threshold_{window_size}day.csv\"\n",
    "        density_df.to_csv(density_filename)\n",
    "        \n",
    "        # Clustering Coefficient file\n",
    "        clustering_df = pd.DataFrame({\n",
    "            'clustering_coefficient': results[group_name]['clustering']\n",
    "        })\n",
    "        clustering_df.index.name = 'date'\n",
    "        # Sort index by date\n",
    "        clustering_df.index = pd.to_datetime(clustering_df.index)\n",
    "        clustering_df = clustering_df.sort_index()\n",
    "        clustering_filename = f\"cluscoeff_{group_name}_{threshold}threshold_{window_size}day.csv\"\n",
    "        clustering_df.to_csv(clustering_filename)"
   ]
  },
  {
   "cell_type": "code",
   "execution_count": 56,
   "metadata": {},
   "outputs": [],
   "source": [
    "base_dirs = [\n",
    "    \"../gt_corr_adj_matrix/gt_adj_matrices_msv_15day\",\n",
    "    \"../gt_corr_adj_matrix/gt_adj_matrices_msv_30day\",\n",
    "    \"../gt_corr_adj_matrix/gt_adj_matrices_rsv_normal_15day\",\n",
    "    \"../gt_corr_adj_matrix/gt_adj_matrices_rsv_normal_30day\"\n",
    "]\n",
    "\n",
    "thresholds = [0.4, 0.5, 0.6, 0.8]"
   ]
  },
  {
   "cell_type": "code",
   "execution_count": 57,
   "metadata": {},
   "outputs": [],
   "source": [
    "# Define the groups with dashes instead of underscores\n",
    "MSV_GROUPS = {\n",
    "    \"MSVSymptoms-0.6\": [\"cough\", \"fever\", \"sipon\"],\n",
    "    \"MSVNewNormalProtocols1-0.6\": [\"ecq\", \"Quarantine\"],\n",
    "    \"MSVSymptoms&HealthProtocols1-0.6\": [\"flu\", \"headache\", \"lagnat\", \"rashes\", \"ubo\", \n",
    "                                        \"face shield\", \"Frontliners\", \"masks\", \"social distancing\"],\n",
    "    \"MSVSymptoms-0.5\": [\"flu\", \"cough\", \"fever\", \"sipon\", \"ubo\"],\n",
    "    \"MSVNewNormalProtocols1-0.5\": [\"Quarantine\", \"Frontliners\", \"ecq\"],\n",
    "    \"MSVFaceWearing&Others-0.6\": [\"masks\", \"face shield\", \"headache\", \"lagnat\", \"rashes\", \"social distancing\"]\n",
    "}\n",
    "\n",
    "RSV_GROUPS = {\n",
    "    \"RSVSymptoms&NewNormalProtocols1-0.6\": [\"flu\", \"cough\", \"fever\", \"Quarantine\", \"work from home\"],\n",
    "    \"RSVSymptoms&NewNormalProtocols2-0.6\": [\"face shield\", \"headache\", \"lagnat\", \"rashes\", \"sipon\", \n",
    "                                        \"ubo\", \"Frontliners\", \"masks\", \"social distancing\"],\n",
    "    \"RSVSymptoms&NewNormalProtocols-0.5\": [\"social distancing\", \"work from home\", \"Quarantine\", \n",
    "                                     \"headache\", \"fever\", \"cough\", \"flu\"],\n",
    "    \"MSVFaceWearing&Others-0.5\": [\"face shield\", \"masks\", \"Frontliners\", \"ubo\", \"sipon\", \"rashes\", \"lagnat\"]\n",
    "}"
   ]
  },
  {
   "cell_type": "code",
   "execution_count": 58,
   "metadata": {},
   "outputs": [],
   "source": [
    "for base_dir in base_dirs:\n",
    "    window_size = \"15\" if \"15day\" in base_dir else \"30\"\n",
    "    groups = MSV_GROUPS if \"msv\" in base_dir else RSV_GROUPS\n",
    "    \n",
    "    for threshold in thresholds:\n",
    "        process_matrices(base_dir, threshold, groups, window_size)"
   ]
  }
 ],
 "metadata": {
  "kernelspec": {
   "display_name": "Python 3",
   "language": "python",
   "name": "python3"
  },
  "language_info": {
   "codemirror_mode": {
    "name": "ipython",
    "version": 3
   },
   "file_extension": ".py",
   "mimetype": "text/x-python",
   "name": "python",
   "nbconvert_exporter": "python",
   "pygments_lexer": "ipython3",
   "version": "3.12.2"
  }
 },
 "nbformat": 4,
 "nbformat_minor": 2
}
