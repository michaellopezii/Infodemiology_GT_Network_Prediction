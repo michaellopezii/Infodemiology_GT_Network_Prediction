{
 "cells": [
  {
   "cell_type": "code",
   "execution_count": 73,
   "metadata": {},
   "outputs": [],
   "source": [
    "import pandas as pd\n",
    "import numpy as np\n",
    "from scipy import stats\n",
    "import glob\n",
    "import os"
   ]
  },
  {
   "cell_type": "code",
   "execution_count": 74,
   "metadata": {},
   "outputs": [],
   "source": [
    "def is_all_zeros(filepath, value_column):\n",
    "    df = pd.read_csv(filepath)\n",
    "    return np.all(df[value_column] == 0)"
   ]
  },
  {
   "cell_type": "code",
   "execution_count": 75,
   "metadata": {},
   "outputs": [],
   "source": [
    "dtw_results = pd.read_csv('dtw_results_multi_radius_sorted.csv')"
   ]
  },
  {
   "cell_type": "code",
   "execution_count": 76,
   "metadata": {},
   "outputs": [
    {
     "name": "stdout",
     "output_type": "stream",
     "text": [
      "Shapiro-Wilk test for all DTW scores:\n",
      "Statistic: 0.9924630931\n",
      "p-value: 1.3314606321e-01\n",
      "Normally distributed? Yes\n",
      "\n",
      "Shapiro-Wilk test for each tag:\n",
      "\n",
      "Tag: Frontliners\n",
      "Statistic:   0.868773\n",
      "p-value: 1.118067e-02\n",
      "Normally distributed? No\n",
      "\n",
      "Tag: Quarantine\n",
      "Statistic:   0.899522\n",
      "p-value: 4.039762e-02\n",
      "Normally distributed? No\n",
      "\n",
      "Tag: cough\n",
      "Statistic:   0.903223\n",
      "p-value: 4.741292e-02\n",
      "Normally distributed? No\n",
      "\n",
      "Tag: ecq\n",
      "Statistic:   0.912105\n",
      "p-value: 6.991162e-02\n",
      "Normally distributed? Yes\n",
      "\n",
      "Tag: face shield\n",
      "Statistic:   0.917475\n",
      "p-value: 8.860138e-02\n",
      "Normally distributed? Yes\n",
      "\n",
      "Tag: fever\n",
      "Statistic:   0.921416\n",
      "p-value: 1.055049e-01\n",
      "Normally distributed? Yes\n",
      "\n",
      "Tag: flu\n",
      "Statistic:   0.933882\n",
      "p-value: 1.833481e-01\n",
      "Normally distributed? Yes\n",
      "\n",
      "Tag: headache\n",
      "Statistic:   0.977608\n",
      "p-value: 8.996215e-01\n",
      "Normally distributed? Yes\n",
      "\n",
      "Tag: lagnat\n",
      "Statistic:   0.931678\n",
      "p-value: 1.663301e-01\n",
      "Normally distributed? Yes\n",
      "\n",
      "Tag: masks\n",
      "Statistic:   0.987563\n",
      "p-value: 9.931399e-01\n",
      "Normally distributed? Yes\n",
      "\n",
      "Tag: rashes\n",
      "Statistic:   0.938961\n",
      "p-value: 2.291648e-01\n",
      "Normally distributed? Yes\n",
      "\n",
      "Tag: sipon\n",
      "Statistic:   0.867411\n",
      "p-value: 1.058377e-02\n",
      "Normally distributed? No\n",
      "\n",
      "Tag: social distancing\n",
      "Statistic:   0.894159\n",
      "p-value: 3.209267e-02\n",
      "Normally distributed? No\n",
      "\n",
      "Tag: ubo\n",
      "Statistic:   0.821721\n",
      "p-value: 1.855646e-03\n",
      "Normally distributed? No\n",
      "\n",
      "Tag: work from home\n",
      "Statistic:   0.872288\n",
      "p-value: 1.289185e-02\n",
      "Normally distributed? No\n"
     ]
    }
   ],
   "source": [
    "# Test overall dtw_scores\n",
    "print(\"Shapiro-Wilk test for all DTW scores:\")\n",
    "stat, p_value = stats.shapiro(dtw_results['dtw_score'])\n",
    "print(f\"Statistic: {stat:.10f}\")\n",
    "print(f\"p-value: {p_value:.10e}\")\n",
    "print(f\"Normally distributed? {'Yes' if p_value > 0.05 else 'No'}\\n\")\n",
    "\n",
    "# Test dtw_scores for each tag separately\n",
    "print(\"Shapiro-Wilk test for each tag:\")\n",
    "for tag in sorted(dtw_results['tag'].unique()):\n",
    "    tag_scores = dtw_results[dtw_results['tag'] == tag]['dtw_score']\n",
    "    stat, p_value = stats.shapiro(tag_scores)\n",
    "    print(f\"\\nTag: {tag}\")\n",
    "    print(f\"Statistic: {stat:10f}\")\n",
    "    print(f\"p-value: {p_value:10e}\")\n",
    "    print(f\"Normally distributed? {'Yes' if p_value > 0.05 else 'No'}\")"
   ]
  },
  {
   "cell_type": "code",
   "execution_count": 77,
   "metadata": {},
   "outputs": [],
   "source": [
    "base_path = \"../gt_netdense_cluscoeff\""
   ]
  },
  {
   "cell_type": "code",
   "execution_count": 78,
   "metadata": {},
   "outputs": [],
   "source": [
    "# Get valid network density files\n",
    "density_files = glob.glob(os.path.join(base_path, \"gt_netdense_rsvmsv_15or30day/netdense_*.csv\"))\n",
    "valid_density_files = [f for f in density_files if not is_all_zeros(f, 'network_density')]\n",
    "\n",
    "# Get valid clustering coefficient files\n",
    "coeff_files = glob.glob(os.path.join(base_path, \"gt_cluscoeff_rsvmsv_15or30day/cluscoeff_*.csv\"))\n",
    "valid_coeff_files = [f for f in coeff_files if not is_all_zeros(f, 'clustering_coefficient')]"
   ]
  },
  {
   "cell_type": "code",
   "execution_count": 79,
   "metadata": {},
   "outputs": [],
   "source": [
    "network_results = pd.read_csv('network_dtw_results_sorted.csv')"
   ]
  },
  {
   "cell_type": "code",
   "execution_count": 80,
   "metadata": {},
   "outputs": [],
   "source": [
    "# Filter results to include only valid files\n",
    "valid_combos = []\n",
    "for f in valid_density_files + valid_coeff_files:\n",
    "    filename = os.path.basename(f)\n",
    "    if 'netdense_' in filename:\n",
    "        _, source, threshold, window = filename.replace('.csv', '').split('_')\n",
    "        valid_combos.append((source.upper(), threshold, window.replace('day', ''), 'Network Density'))\n",
    "    else:\n",
    "        _, source, threshold, window = filename.replace('.csv', '').split('_')\n",
    "        valid_combos.append((source.upper(), threshold, window.replace('day', ''), 'Clustering Coefficient'))"
   ]
  },
  {
   "cell_type": "code",
   "execution_count": 81,
   "metadata": {},
   "outputs": [],
   "source": [
    "# Filter network results\n",
    "filtered_network = network_results[network_results.apply(lambda x: \n",
    "    (x['source'], x['threshold'], x['window'], x['metric_type']) in valid_combos, axis=1)]"
   ]
  },
  {
   "cell_type": "code",
   "execution_count": 82,
   "metadata": {},
   "outputs": [
    {
     "name": "stdout",
     "output_type": "stream",
     "text": [
      "\n",
      "Shapiro-Wilk test for all network statistics DTW scores:\n",
      "Statistic: 0.9441\n",
      "p-value: 1.2079e-09\n",
      "Normally distributed? No\n",
      "\n",
      "Shapiro-Wilk test for each network metric type:\n",
      "\n",
      "Metric Type: Clustering Coefficient\n",
      "Statistic: 0.9425\n",
      "p-value: 4.3337e-06\n",
      "Normally distributed? No\n",
      "\n",
      "Metric Type: Network Density\n",
      "Statistic: 0.9615\n",
      "p-value: 2.0007e-04\n",
      "Normally distributed? No\n"
     ]
    }
   ],
   "source": [
    "# Test overall dtw_scores for network statistics\n",
    "print(\"\\nShapiro-Wilk test for all network statistics DTW scores:\")\n",
    "stat, p_value = stats.shapiro(network_results['dtw_score'])\n",
    "print(f\"Statistic: {stat:.4f}\")\n",
    "print(f\"p-value: {p_value:.4e}\")\n",
    "print(f\"Normally distributed? {'Yes' if p_value > 0.05 else 'No'}\\n\")\n",
    "\n",
    "# Test dtw_scores for each network metric type\n",
    "print(\"Shapiro-Wilk test for each network metric type:\")\n",
    "for metric in sorted(network_results['metric_type'].unique()):\n",
    "    metric_scores = network_results[network_results['metric_type'] == metric]['dtw_score']\n",
    "    stat, p_value = stats.shapiro(metric_scores)\n",
    "    print(f\"\\nMetric Type: {metric}\")\n",
    "    print(f\"Statistic: {stat:.4f}\")\n",
    "    print(f\"p-value: {p_value:.4e}\")\n",
    "    print(f\"Normally distributed? {'Yes' if p_value > 0.05 else 'No'}\")"
   ]
  },
  {
   "cell_type": "code",
   "execution_count": 83,
   "metadata": {},
   "outputs": [],
   "source": [
    "pca_results = pd.read_csv('pca_dtw_results_sorted.csv')"
   ]
  },
  {
   "cell_type": "code",
   "execution_count": 84,
   "metadata": {},
   "outputs": [],
   "source": [
    "pca_base = \"../gt_pca_corr_adj_matrix\"\n",
    "valid_pca_files = []"
   ]
  },
  {
   "cell_type": "code",
   "execution_count": 85,
   "metadata": {},
   "outputs": [],
   "source": [
    "for pca_dir in [d for d in os.listdir(pca_base) if os.path.isdir(os.path.join(pca_base, d)) and d.startswith('pc')]:\n",
    "    dir_path = os.path.join(pca_base, pca_dir)\n",
    "    \n",
    "    # Check network density files\n",
    "    for f in glob.glob(os.path.join(dir_path, \"netdense_*.csv\")):\n",
    "        if not is_all_zeros(f, 'network_density'):\n",
    "            valid_pca_files.append((pca_dir, f))\n",
    "            \n",
    "    # Check clustering coefficient files\n",
    "    for f in glob.glob(os.path.join(dir_path, \"cluscoeff_*.csv\")):\n",
    "        if not is_all_zeros(f, 'clustering_coefficient'):\n",
    "            valid_pca_files.append((pca_dir, f))"
   ]
  },
  {
   "cell_type": "code",
   "execution_count": 86,
   "metadata": {},
   "outputs": [],
   "source": [
    "pca_results = pd.read_csv('pca_dtw_results_sorted.csv')"
   ]
  },
  {
   "cell_type": "code",
   "execution_count": 87,
   "metadata": {},
   "outputs": [],
   "source": [
    "valid_pca_combos = []\n",
    "for pca_dir, f in valid_pca_files:\n",
    "    filename = os.path.basename(f)\n",
    "    group_name = '_'.join(pca_dir.split('_')[1:])  # Remove pc#_ prefix\n",
    "    if 'netdense_' in filename:\n",
    "        valid_pca_combos.append((group_name, 'Network Density'))\n",
    "    else:\n",
    "        valid_pca_combos.append((group_name, 'Clustering Coefficient'))"
   ]
  },
  {
   "cell_type": "code",
   "execution_count": 88,
   "metadata": {},
   "outputs": [],
   "source": [
    "filtered_pca = pca_results[pca_results.apply(lambda x: \n",
    "    (x['pca_group'], x['metric_type']) in valid_pca_combos, axis=1)]"
   ]
  },
  {
   "cell_type": "code",
   "execution_count": 89,
   "metadata": {},
   "outputs": [
    {
     "name": "stdout",
     "output_type": "stream",
     "text": [
      "\n",
      "Shapiro-Wilk test for all PCA groups DTW scores:\n",
      "Statistic: 0.9628\n",
      "p-value: 4.0952e-15\n",
      "Normally distributed? No\n",
      "\n",
      "Shapiro-Wilk test for each PCA group:\n",
      "\n",
      "PCA Group: MSVFaceWearing&Others-0.5\n",
      "Statistic: 0.9574\n",
      "p-value: 7.9018e-04\n",
      "Normally distributed? No\n",
      "\n",
      "PCA Group: MSVSymptoms&NewNormalProtocols-0.6\n",
      "Statistic: 0.9648\n",
      "p-value: 1.1294e-03\n",
      "Normally distributed? No\n",
      "\n",
      "PCA Group: MSVSymptoms-0.5\n",
      "Statistic: 0.9223\n",
      "p-value: 1.4266e-07\n",
      "Normally distributed? No\n",
      "\n",
      "PCA Group: RSVFaceWearing&Others-0.5\n",
      "Statistic: 0.9742\n",
      "p-value: 2.1011e-02\n",
      "Normally distributed? No\n",
      "\n",
      "PCA Group: RSVSymptoms&NewNormalProtocols-0.5\n",
      "Statistic: 0.9419\n",
      "p-value: 3.8717e-06\n",
      "Normally distributed? No\n",
      "\n",
      "PCA Group: RSVSymptoms&NewNormalProtocols1-0.6\n",
      "Statistic: 0.9427\n",
      "p-value: 4.4480e-06\n",
      "Normally distributed? No\n",
      "\n",
      "PCA Group: RSVSymptoms&NewNormalProtocols2-0.6\n",
      "Statistic: 0.9724\n",
      "p-value: 1.4268e-02\n",
      "Normally distributed? No\n"
     ]
    }
   ],
   "source": [
    "# Test overall dtw_scores for PCA groups\n",
    "print(\"\\nShapiro-Wilk test for all PCA groups DTW scores:\")\n",
    "stat, p_value = stats.shapiro(pca_results['dtw_score'])\n",
    "print(f\"Statistic: {stat:.4f}\")\n",
    "print(f\"p-value: {p_value:.4e}\")\n",
    "print(f\"Normally distributed? {'Yes' if p_value > 0.05 else 'No'}\\n\")\n",
    "\n",
    "# Test dtw_scores for each PCA group\n",
    "print(\"Shapiro-Wilk test for each PCA group:\")\n",
    "for group in sorted(pca_results['pca_group'].unique()):\n",
    "    group_scores = pca_results[pca_results['pca_group'] == group]['dtw_score']\n",
    "    stat, p_value = stats.shapiro(group_scores)\n",
    "    print(f\"\\nPCA Group: {group}\")\n",
    "    print(f\"Statistic: {stat:.4f}\")\n",
    "    print(f\"p-value: {p_value:.4e}\")\n",
    "    print(f\"Normally distributed? {'Yes' if p_value > 0.05 else 'No'}\")"
   ]
  },
  {
   "cell_type": "code",
   "execution_count": 90,
   "metadata": {},
   "outputs": [
    {
     "name": "stdout",
     "output_type": "stream",
     "text": [
      "\n",
      "\n",
      "Summary of Zero-Value Files:\n",
      "Network Density files excluded: 0\n",
      "Clustering Coefficient files excluded: 0\n",
      "Total PCA files processed: 98\n"
     ]
    }
   ],
   "source": [
    "print(\"\\n\\nSummary of Zero-Value Files:\")\n",
    "print(f\"Network Density files excluded: {len(density_files) - len(valid_density_files)}\")\n",
    "print(f\"Clustering Coefficient files excluded: {len(coeff_files) - len(valid_coeff_files)}\")\n",
    "print(f\"Total PCA files processed: {len(valid_pca_files)}\")"
   ]
  }
 ],
 "metadata": {
  "kernelspec": {
   "display_name": "Python 3",
   "language": "python",
   "name": "python3"
  },
  "language_info": {
   "codemirror_mode": {
    "name": "ipython",
    "version": 3
   },
   "file_extension": ".py",
   "mimetype": "text/x-python",
   "name": "python",
   "nbconvert_exporter": "python",
   "pygments_lexer": "ipython3",
   "version": "3.12.2"
  }
 },
 "nbformat": 4,
 "nbformat_minor": 2
}
